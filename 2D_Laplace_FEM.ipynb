{
 "cells": [
  {
   "cell_type": "markdown",
   "metadata": {
    "colab_type": "text",
    "id": "i9jVyxtEkpHh"
   },
   "source": [
    "# FEM from scratch: Laplace problem"
   ]
  },
  {
   "cell_type": "code",
   "execution_count": null,
   "metadata": {
    "colab": {},
    "colab_type": "code",
    "id": "2e1y-9bVR-nR"
   },
   "outputs": [],
   "source": [
    "import numpy as np\n",
    "import matplotlib.pyplot as plt"
   ]
  },
  {
   "cell_type": "markdown",
   "metadata": {
    "colab_type": "text",
    "id": "FqCaUpqFim8z"
   },
   "source": [
    "We implement the $\\mathbb{P}^1$ FEM for solving the Laplace problem with Dirichlet and Neumann boundary conditions. On the unit square $\\Omega = {[0,1]}^2$ we consider \n",
    "\\begin{equation*}\n",
    "  \\begin{cases}\n",
    "    -\\Delta u = f, \\qquad & \\text{in }\\Omega, \\\\\n",
    "    u = g_D, \\qquad & \\text{on }\\Gamma_D, \\\\\n",
    "    \\boldsymbol{\\nabla}{u}\\cdot\\boldsymbol{n} = g_N & \\text{on }\\Gamma_N.\n",
    "  \\end{cases}\n",
    "\\end{equation*}\n",
    "\n",
    "We test the solver using the simple analytical solution given by \n",
    "$$\n",
    "u(x,y) = (1-x^2)(1-y^2),\n",
    "$$\n",
    "from which we infer $f = 4 - 2(x^2+y^2)$. .\n",
    "We consider three different configurations of boundary conditions:\n",
    "\n",
    "1.   **Problem 0**: full Dirichlet conditions, i.e.  $\\Gamma_D = \\partial\\Omega$\n",
    "2.   **Problem 1**: mixed homogeneous conditions, i.e. $\\Gamma_D := \\{ (x,y)\\in\\partial\\Omega\\ | x=1 \\} \\cup \\{ (x,y)\\in\\partial\\Omega\\ | y=1 \\}$ and $\\Gamma_N :=\\partial\\Omega\\setminus\\Gamma_D$ (which, indeed, yields $g_D=0$ and $g_N=0$). \n",
    "3.   **Problem 2**: mixed non-homogeneous conditions, i.e.\n",
    "$\\Gamma_D := \\{ (x,y)\\in\\partial\\Omega\\ | x=0 \\} \\cup \\{ (x,y)\\in\\partial\\Omega\\ | x=1 \\}$ and $\\Gamma_N :=\\partial\\Omega\\setminus\\Gamma_D$. \n",
    "\n"
   ]
  },
  {
   "cell_type": "markdown",
   "metadata": {
    "colab_type": "text",
    "id": "KsYDSdp5K0H9"
   },
   "source": [
    "### Step 1: Mesh generation and reordering of boundary nodes"
   ]
  },
  {
   "cell_type": "code",
   "execution_count": null,
   "metadata": {
    "colab": {},
    "colab_type": "code",
    "id": "jx8ChM2nA9YI"
   },
   "outputs": [],
   "source": [
    "def left_mesh(a, b, nx, ny):\n",
    "  '''\n",
    "  construct a left-type uniform triangular mesh of [0,a] x [0,b] starting from a \n",
    "  cartesian grid with nx cells in the x-direction and ny cells in the y-direction\n",
    "  '''\n",
    "  P = np.zeros(((nx+1)*(ny+1),2))\n",
    "  T = np.zeros((2*nx*ny,3), dtype=int)\n",
    "\n",
    "  x = np.linspace(0, a, nx+1)\n",
    "  y = np.linspace(0, b, ny+1)\n",
    "\n",
    "  for i in range(0, nx+1):\n",
    "      for j in range(0, ny+1):\n",
    "          # create coordinate matrix P (ordered from bottom-left to top-right)\n",
    "          P[i*(ny+1)+j,0] = x[i]\n",
    "          P[i*(ny+1)+j,1] = y[j]\n",
    "\n",
    "          # create connectivity matrix T with local backward orientation\n",
    "          if (i<nx) and (j<ny):\n",
    "              T[2*(i*ny+j),0] = i*(ny+1) + j\n",
    "              T[2*(i*ny+j),1] = (i+1)*(ny+1) + j\n",
    "              T[2*(i*ny+j),2] = i*(ny+1) + j+1\n",
    "              \n",
    "              T[2*(i*ny+j)+1,0] = i*(ny+1) + j+1\n",
    "              T[2*(i*ny+j)+1,1] = (i+1)*(ny+1) + j\n",
    "              T[2*(i*ny+j)+1,2] = (i+1)*(ny+1) + j+1\n",
    "\n",
    "  return P, T"
   ]
  },
  {
   "cell_type": "code",
   "execution_count": null,
   "metadata": {
    "colab": {},
    "colab_type": "code",
    "id": "CalT2Et5-96j"
   },
   "outputs": [],
   "source": [
    "def Dirichlet(a, b, Point, tol, pb = 0):\n",
    "  '''\n",
    "  condition defining the Dirichlet boundary\n",
    "  '''\n",
    "  edge_0 = Point[0] < tol\n",
    "  edge_1 = Point[1] < tol \n",
    "  edge_2 = Point[0] > a-tol\n",
    "  edge_3 = Point[1] > b-tol\n",
    "  \n",
    "  if pb == 0:    # full Dirichlet problem\n",
    "    diric_bc = (edge_0 or edge_1) or (edge_2 or edge_3)\n",
    "  elif pb == 1:  # mixed homogeneous problem\n",
    "    diric_bc = edge_2 or edge_3\n",
    "  elif pb == 2:  # mixed non-homogeneous problem\n",
    "    diric_bc = edge_0 or edge_2\n",
    "  else:\n",
    "    print('wrong pb argument:') \n",
    "    print('  0= full Dirichelt, 1= mixed homogeneous, 2= mixed non-homogeneous')\n",
    "\n",
    "  return diric_bc"
   ]
  },
  {
   "cell_type": "code",
   "execution_count": null,
   "metadata": {
    "colab": {},
    "colab_type": "code",
    "id": "r--FAF3T_qdt"
   },
   "outputs": [],
   "source": [
    "def Neumann(a, b, Point, tol, pb = 0):\n",
    "  '''\n",
    "  condition defining the Neumann boundary\n",
    "  '''\n",
    "  edge_0 = Point[0] < tol\n",
    "  edge_1 = Point[1] < tol \n",
    "  edge_2 = Point[0] > a-tol\n",
    "  edge_3 = Point[1] > b-tol\n",
    "\n",
    "  if pb == 0:    # full Dirichlet problem\n",
    "    neuma_bc = False\n",
    "  elif pb == 1:  # mixed homogeneous problem\n",
    "    neuma_bc = edge_0 or edge_1\n",
    "  elif pb == 2:  # mixed non-homogeneous problem\n",
    "    neuma_bc = edge_1 or edge_3\n",
    "  else:\n",
    "    print('wrong pb argument:') \n",
    "    print('  0= full Dirichelt, 1= mixed homogeneous, 2= mixed non-homogeneous')\n",
    "\n",
    "  return neuma_bc"
   ]
  },
  {
   "cell_type": "code",
   "execution_count": null,
   "metadata": {
    "colab": {},
    "colab_type": "code",
    "id": "b_4dk1nCL1bT"
   },
   "outputs": [],
   "source": [
    "def ordered_mesh(a, b, nx, ny, pb = 0):\n",
    "  '''\n",
    "  construct a left-type uniform triangular mesh of [0,a] x [0,b] starting from a \n",
    "  cartesian grid with nx cells in the x-direction and ny cells in the y-direction\n",
    "  P,T are modified in order to put internal nodes first and Dirichlet nodes last\n",
    "  '''\n",
    "  P, T = left_mesh(a, b, nx, ny)\n",
    "  P_new = np.zeros(P.shape)\n",
    "  T_new = np.zeros(T.shape, dtype = int)\n",
    "  \n",
    "  n_bndry = 2 * (nx + ny) \n",
    "  n_inter = 0\n",
    "  n_diric = 0\n",
    "  n_neumn = 0\n",
    "\n",
    "  tol = min(a/(2*nx), b/(2*ny))\n",
    "  v = np.zeros(P[:,0].size, dtype = int)     # permutation map\n",
    "\n",
    "  for i in range(P[:,0].size):\n",
    "\n",
    "    if Dirichlet(a, b, P[i,:], tol, pb):\n",
    "      # node i belongs to Dirichlet boundary\n",
    "      v[i] = P[:,0].size - n_diric - 1\n",
    "      n_diric += 1\n",
    "    elif Neumann(a, b, P[i,:], tol, pb):\n",
    "      # node i belongs to Neumann boundary\n",
    "      v[i] = P[:,0].size - n_bndry + n_neumn \n",
    "      n_neumn += 1\n",
    "    else: \n",
    "      # node i is internal \n",
    "      v[i] = n_inter\n",
    "      n_inter += 1\n",
    "    \n",
    "    # update nodes matrix P \n",
    "    P_new[v[i],:] = P[i,:]\n",
    "\n",
    "  # update elements matrix T\n",
    "  T_new[:,:] = v[T[:,:]]\n",
    "\n",
    "  return P_new, T_new, n_diric, n_neumn"
   ]
  },
  {
   "cell_type": "code",
   "execution_count": null,
   "metadata": {
    "colab": {},
    "colab_type": "code",
    "id": "ZP5sTx4UDe0o"
   },
   "outputs": [],
   "source": [
    "def plot_mesh(P, E):\n",
    "  for i in range(E[:,0].size):\n",
    "    x = [P[E[i, E[0,:].size-1], 0], P[E[i, 0], 0]]\n",
    "    y = [P[E[i, E[0,:].size-1], 1], P[E[i, 0], 1]]\n",
    "    plt.plot(x, y, \"k\")\n",
    "    for j in range(E[0,:].size-1):\n",
    "      x = [P[E[i, j], 0], P[E[i, j+1], 0]]\n",
    "      y = [P[E[i, j], 1], P[E[i, j+1], 1]]\n",
    "      plt.plot(x, y, \"k\")\n",
    "        \n",
    "  plt.show()"
   ]
  },
  {
   "cell_type": "code",
   "execution_count": null,
   "metadata": {
    "colab": {
     "base_uri": "https://localhost:8080/",
     "height": 553
    },
    "colab_type": "code",
    "id": "GtvGwAfYGNnB",
    "outputId": "ad043d2e-1247-4dc9-92fe-c878307a30d6"
   },
   "outputs": [],
   "source": [
    "# ordered_mesh(a, b, nx, ny, pb = 0)\n",
    "P, T, n_diric, n_neumn = ordered_mesh(1, 1, 4, 2, 0)\n",
    "plot_mesh(P,T)\n",
    "print(P)"
   ]
  },
  {
   "cell_type": "markdown",
   "metadata": {
    "colab_type": "text",
    "id": "b_NIHQIdK6Kn"
   },
   "source": [
    "### Assembling of stiffness matrix and right-hand side"
   ]
  },
  {
   "cell_type": "markdown",
   "metadata": {
    "colab_type": "text",
    "id": "lDvEVoQP9ThD"
   },
   "source": [
    "Let $\\phi_i$ be the hat-function associated to the $i$-th node in the mesh $\\mathcal{T}_h$. We denote with $\\mathcal{E}_h^N$ the set of boundary edges belonging to the Neumann boundary. The linear system associated to the FEM approximation reads $A \\boldsymbol{u} = \\boldsymbol{f}$, where\n",
    "\n",
    "*   The stiffness matrix $A$ is given by:\n",
    "$$\n",
    "A_{ij} = \\sum_{T\\in \\mathcal{T}_h}\\int_T \\boldsymbol{\\nabla} \\varphi_i \\cdot \\boldsymbol{\\nabla} \\varphi_j\n",
    "$$\n",
    "*   the right-hand side vector $\\boldsymbol{f}$ is given by:\n",
    "$$\n",
    "f_i = \\sum_{T\\in \\mathcal{T}_h}\\int_T f\\varphi_i +\n",
    "\\sum_{E\\in \\mathcal{E}_h^N}\\int_E g_N\\varphi_i \n",
    "$$\n",
    "\n",
    "In **problem 1** and **problem 2** the contribution to $\\boldsymbol{F}$ associated to the Neumann BC vanishes. \n",
    "Moreover, we can deal with non-homogenoeous Dirichlet conditions using the usual trick. Thus, we start by focusing on the assembling of $A$ using the reference element approach and the term corresponding to the volumetric load function. "
   ]
  },
  {
   "cell_type": "markdown",
   "metadata": {
    "colab_type": "text",
    "id": "iLAnWmyOL0PW"
   },
   "source": [
    "The term associated to the load function $\\boldsymbol{f}$ is computed using a simple quadrature rule (evaluation at the center of each element)."
   ]
  },
  {
   "cell_type": "code",
   "execution_count": null,
   "metadata": {
    "colab": {},
    "colab_type": "code",
    "id": "j74S1MzRSOHR"
   },
   "outputs": [],
   "source": [
    "def assemble(P, T, f):\n",
    "  '''\n",
    "  construct the Grad*Grad stiffness matrix and rhs vector \n",
    "  corresponding to mesh (P,T) and load function f\n",
    "  '''\n",
    "  n_nodes = P[:,0].size\n",
    "  n_elems = T[:,0].size\n",
    "  A = np.zeros((n_nodes, n_nodes))\n",
    "  b = np.zeros(n_nodes)\n",
    "\n",
    "  # gradients of basis functions on the reference element\n",
    "  grad_ref = np.array(((-1,  1,  0),\n",
    "                       (-1,  0,  1)))\n",
    "\n",
    "  for k in range(n_elems):\n",
    "    # compute edges of element k\n",
    "    B = np.zeros((2,2))\n",
    "    B[:, 0] = (P[T[k, 1], :] - P[T[k, 0], :]).T #subtract two rows of the coordinate matrix\n",
    "    B[:, 1] = (P[T[k, 2], :] - P[T[k, 0], :]).T\n",
    "    # the determinant of B is the area of a parallelogram\n",
    "    # the area of the triangle is half of that\n",
    "    J = np.linalg.det(B)\n",
    "    area_T = J/2.0\n",
    "    invB = np.linalg.inv(B)\n",
    "    A_loc = grad_ref.T @ invB @ invB.T @ grad_ref * J/2\n",
    "    \n",
    "\n",
    "    # find the barycenter\n",
    "    bar_T = np.array((P[T[k,0],:] + P[T[k,1],:] + P[T[k,2],:])/3.0)\n",
    " \n",
    "    # each local contribution is stored in the corresponding global position\n",
    "    for iloc in range(3):\n",
    "      # the value of each shape function at the barycenter is 1/3\n",
    "      b[T[k,iloc]] += area_T * f(bar_T[0], bar_T[1]) / 3.0\n",
    "      for jloc in range(3):\n",
    "        A[T[k,iloc], T[k,jloc]] += A_loc[iloc, jloc]\n",
    "\n",
    "  return A, b"
   ]
  },
  {
   "cell_type": "code",
   "execution_count": null,
   "metadata": {
    "colab": {},
    "colab_type": "code",
    "id": "pr1Zyw-2Aaw9"
   },
   "outputs": [],
   "source": [
    "def neumann_rhs(a, b, Point, grad_u, tol):\n",
    "  '''\n",
    "  returns the average flux in the two Neumann edges sharing 'Point' \n",
    "  '''\n",
    "  # on the domain boundary we define the outward-pointing normal vectors\n",
    "  # corresponding to the two edges sharing 'Point' \n",
    "  if (Point[0] < tol) and (Point[1] < b-tol):\n",
    "     normal_l = np.array([-1, 0])\n",
    "     if Point[1] < tol:\n",
    "       normal_r = np.array([0, -1])\n",
    "     else:\n",
    "       normal_r = normal_l\n",
    "  elif Point[1] < tol:  \n",
    "     normal_l = np.array([0, -1])\n",
    "     if Point[0] > a-tol:\n",
    "       normal_r = np.array([1, 0])\n",
    "     else:  \n",
    "       normal_r = normal_l\n",
    "  elif Point[0] > a-tol: \n",
    "     normal_l = np.array([1, 0])\n",
    "     if Point[1] > b-tol:\n",
    "       normal_r = np.array([0, 1])\n",
    "     else:\n",
    "       normal_r = normal_l\n",
    "  else:\n",
    "     normal_l = np.array([0, 1])\n",
    "     if Point[0] < tol:\n",
    "       normal_r = np.array([-1, 0])\n",
    "     else:\n",
    "       normal_r = normal_l\n",
    "  \n",
    "  tangent_l = np.array([normal_l[1], -normal_l[0]]) * tol \n",
    "  tangent_r = np.array([-normal_r[1], normal_r[0]]) * tol \n",
    "  flux_l = np.dot(grad_u((Point+tangent_l)[0], (Point+tangent_l)[1]), normal_l)\n",
    "  flux_r = np.dot(grad_u((Point+tangent_r)[0], (Point-tangent_r)[1]), normal_r)\n",
    "  flux = tol*(flux_l + flux_r)\n",
    "\n",
    "  return flux"
   ]
  },
  {
   "cell_type": "markdown",
   "metadata": {
    "colab_type": "text",
    "id": "lminviDUjWvF"
   },
   "source": [
    "### Main program"
   ]
  },
  {
   "cell_type": "code",
   "execution_count": null,
   "metadata": {
    "colab": {
     "base_uri": "https://localhost:8080/",
     "height": 478
    },
    "colab_type": "code",
    "id": "hRM7sQSaTSpv",
    "outputId": "392c22c7-0f57-41b9-ac89-4b8d49280a9c"
   },
   "outputs": [],
   "source": [
    "pb = 2\n",
    "n = 20\n",
    "f = lambda x, y: 4 - 2* (x**2+y**2)\n",
    "u = lambda x, y: (1-x**2)*(1-y**2)\n",
    "def grad_u(x,y): \n",
    "  grad = np.array([-2*x*(1-y**2), -2*y*(1-x**2)])\n",
    "  return grad\n",
    "\n",
    "# Step 1: meshing\n",
    "P, T, n_diric, n_neumn = ordered_mesh(1, 1, n, n, pb)\n",
    "\n",
    "# Step 2: definitions of discrete space (dofs)\n",
    "n_nodes = P[:,0].size\n",
    "n_dofs = n_nodes - n_diric\n",
    "uh = np.zeros(n_nodes)\n",
    "\n",
    "# Step 3: assembling matrices and rhs vectors\n",
    "A, b = assemble(P, T, f)\n",
    "# accounting for Neumann BCs\n",
    "for j in range(n_dofs-n_neumn, n_dofs):\n",
    "  b[j] += neumann_rhs(1, 1, P[j,:], grad_u, 1/(2*n))\n",
    "# Enforce Dirichlet BCs\n",
    "A[n_dofs:n_nodes, :] = 0  # rows corresponding to Dirichlet nodes are set to zero\n",
    "for j in range(n_dofs, n_nodes):\n",
    "    A[j, j] = 1 # and then the diagonal is set to one\n",
    "    b[j] = u(P[j,0], P[j,1]) #set the rhs to the Dirichlet condition\n",
    "\n",
    "# Step 4: solving linear system\n",
    "uh = np.linalg.solve(A, b)\n",
    "\n",
    "\n",
    "# Step 5a: compute errors\n",
    "err_h1 = 0\n",
    "err_l2 = 0\n",
    "for k in range(T[:,0].size):\n",
    "  # compute edges of element k\n",
    "  e = np.zeros((3,2))\n",
    "  e[2,:] = P[T[k,1],:] - P[T[k,0],:]\n",
    "  e[0,:] = P[T[k,2],:] - P[T[k,1],:]\n",
    "  e[1,:] = P[T[k,0],:] - P[T[k,2],:] \n",
    "  area_T = np.linalg.det(e[0:2,:])/2.0\n",
    "  bar_T = np.array((P[T[k,0],:] + P[T[k,1],:] + P[T[k,2],:])/3.0)\n",
    "\n",
    "  gradu_bar = grad_u(bar_T[0], bar_T[1])\n",
    "  grad_uh = np.array([sum(-e[:,1]*uh[T[k,:]]), sum(e[:,0]*uh[T[k,:]])])/(2*area_T)\n",
    "  err_h1 += area_T * np.dot(gradu_bar - grad_uh, gradu_bar - grad_uh)\n",
    "\n",
    "  u_bar = u(bar_T[0], bar_T[1])\n",
    "  uh_bar = (uh[T[k,0]] + uh[T[k,1]] + uh[T[k,2]])/3.0\n",
    "  err_l2 += area_T * (uh_bar - u_bar)**2\n",
    "\n",
    "err_h1 = np.sqrt(err_h1)\n",
    "err_l2 = np.sqrt(err_l2)\n",
    "print('n={} eL2={:.2e} eH1={:.2e}'.format(n, err_l2, err_h1))\n",
    "\n",
    "# Step 5b: plot the results and compare with true solution\n",
    "Q, T = left_mesh(1,1,4*n,4*n)\n",
    "u_ex = u(Q[:,0], Q[:,1])\n",
    "fig, axes = plt.subplots(1,2, figsize=(12,6))\n",
    "\n",
    "h0 = axes[0].tricontourf(P[:,0], P[:,1], uh , 20)\n",
    "axes[0].set_title(\"FEM approximation\")\n",
    "plt.colorbar(h0, ax=axes[0])\n",
    "\n",
    "h1 = axes[1].tricontourf(Q[:,0], Q[:,1], u_ex , 20)\n",
    "axes[1].set_title(\"exact solution\")\n",
    "plt.colorbar(h1, ax=axes[1])\n",
    "\n",
    "fig.tight_layout()\n",
    "plt.show()"
   ]
  },
  {
   "cell_type": "markdown",
   "metadata": {},
   "source": [
    "An alternative assemble function is reported below. It is based on the following considerations:\n",
    "let the nodes $P_i$ and $P_j$ belong to the boundary of element $T$ and let $e_i$ and $e_j$ be the edges of $T$ opposed to the vertices $P_i$ and $P_j$, respectively. We observe that \n",
    "$$\n",
    "(\\boldsymbol{\\nabla}\\varphi_i)_{|T} = \\frac{R_{\\pi/2} \\boldsymbol{e}_i}{2\\ |T|}, \\quad\\text{ and }\\;\\;\n",
    "(\\boldsymbol{\\nabla}\\varphi_i\\cdot\\boldsymbol{\\nabla}\\varphi_j)_{|T} =\n",
    "\\frac{\\boldsymbol{e}_i \\cdot \\boldsymbol{e}_j}{4\\ |T|^2}.\n",
    "$$\n",
    "where $R_{\\pi/2}$ denotes a rotation matrix.\n",
    "Thus, $\\int_T \\boldsymbol{\\nabla}\\varphi_i\\cdot\\boldsymbol{\\nabla}\\varphi_j = \\frac{\\boldsymbol{e}_i \\cdot \\boldsymbol{e}_j}{4\\ |T|} $.\n",
    " "
   ]
  },
  {
   "cell_type": "code",
   "execution_count": null,
   "metadata": {
    "colab": {},
    "colab_type": "code",
    "id": "j74S1MzRSOHR"
   },
   "outputs": [],
   "source": [
    "def assemble_alt(P, T, f):\n",
    "  '''\n",
    "  construct the Grad*Grad stiffness matrix and rhs vector \n",
    "  corresponding to mesh (P,T) and load function f\n",
    "  '''\n",
    "  n_nodes = P[:,0].size\n",
    "  n_elems = T[:,0].size\n",
    "  M = np.zeros((n_nodes, n_nodes))\n",
    "  b = np.zeros(n_nodes)\n",
    "\n",
    "  for k in range(n_elems):\n",
    "    # compute edges of element k\n",
    "    e = np.zeros((3,2))\n",
    "    e[2,:] = P[T[k,1],:] - P[T[k,0],:]\n",
    "    e[0,:] = P[T[k,2],:] - P[T[k,1],:]\n",
    "    e[1,:] = P[T[k,0],:] - P[T[k,2],:] \n",
    "    area_T = np.linalg.det(e[0:2,:])/2.0\n",
    "    # find the barycenter\n",
    "    bar_T = np.array((P[T[k,0],:] + P[T[k,1],:] + P[T[k,2],:])/3.0)\n",
    " \n",
    "    # each local contribution is stored in the corresponding global position\n",
    "    for iloc in range(3):\n",
    "      b[T[k,iloc]] += area_T * f(bar_T[0], bar_T[1]) / 3.0;\n",
    "      for jloc in range(3):\n",
    "        M[T[k,iloc], T[k,jloc]] += np.dot(e[iloc,:], e[jloc,:])/(4*area_T)\n",
    "\n",
    "  return M, b"
   ]
  }
 ],
 "metadata": {
  "colab": {
   "collapsed_sections": [],
   "name": "2DLaplacian_FEM.ipynb",
   "provenance": []
  },
  "kernelspec": {
   "display_name": "Python 3 (ipykernel)",
   "language": "python",
   "name": "python3"
  },
  "language_info": {
   "codemirror_mode": {
    "name": "ipython",
    "version": 3
   },
   "file_extension": ".py",
   "mimetype": "text/x-python",
   "name": "python",
   "nbconvert_exporter": "python",
   "pygments_lexer": "ipython3",
   "version": "3.8.10"
  }
 },
 "nbformat": 4,
 "nbformat_minor": 1
}
